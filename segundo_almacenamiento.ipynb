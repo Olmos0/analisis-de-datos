{
 "cells": [
  {
   "cell_type": "code",
   "execution_count": 216,
   "id": "a7316b5e-67ce-4c22-952f-b398b5575981",
   "metadata": {},
   "outputs": [
    {
     "data": {
      "text/html": [
       "<div>\n",
       "<style scoped>\n",
       "    .dataframe tbody tr th:only-of-type {\n",
       "        vertical-align: middle;\n",
       "    }\n",
       "\n",
       "    .dataframe tbody tr th {\n",
       "        vertical-align: top;\n",
       "    }\n",
       "\n",
       "    .dataframe thead th {\n",
       "        text-align: right;\n",
       "    }\n",
       "</style>\n",
       "<table border=\"1\" class=\"dataframe\">\n",
       "  <thead>\n",
       "    <tr style=\"text-align: right;\">\n",
       "      <th></th>\n",
       "      <th>name</th>\n",
       "      <th>year</th>\n",
       "      <th>selling_price</th>\n",
       "      <th>km_driven</th>\n",
       "      <th>fuel</th>\n",
       "      <th>seller_type</th>\n",
       "      <th>transmission</th>\n",
       "      <th>owner</th>\n",
       "      <th>mileage</th>\n",
       "      <th>engine</th>\n",
       "      <th>max_power</th>\n",
       "      <th>torque</th>\n",
       "      <th>seats</th>\n",
       "    </tr>\n",
       "  </thead>\n",
       "  <tbody>\n",
       "    <tr>\n",
       "      <th>0</th>\n",
       "      <td>Maruti Swift Dzire VDI</td>\n",
       "      <td>2014</td>\n",
       "      <td>450000</td>\n",
       "      <td>145500</td>\n",
       "      <td>Diesel</td>\n",
       "      <td>Individual</td>\n",
       "      <td>Manual</td>\n",
       "      <td>First Owner</td>\n",
       "      <td>23.4 kmpl</td>\n",
       "      <td>1248 CC</td>\n",
       "      <td>74 bhp</td>\n",
       "      <td>190Nm@ 2000rpm</td>\n",
       "      <td>5.0</td>\n",
       "    </tr>\n",
       "    <tr>\n",
       "      <th>1</th>\n",
       "      <td>Skoda Rapid 1.5 TDI Ambition</td>\n",
       "      <td>2014</td>\n",
       "      <td>370000</td>\n",
       "      <td>120000</td>\n",
       "      <td>Diesel</td>\n",
       "      <td>Individual</td>\n",
       "      <td>Manual</td>\n",
       "      <td>Second Owner</td>\n",
       "      <td>21.14 kmpl</td>\n",
       "      <td>1498 CC</td>\n",
       "      <td>103.52 bhp</td>\n",
       "      <td>250Nm@ 1500-2500rpm</td>\n",
       "      <td>5.0</td>\n",
       "    </tr>\n",
       "    <tr>\n",
       "      <th>2</th>\n",
       "      <td>Honda City 2017-2020 EXi</td>\n",
       "      <td>2006</td>\n",
       "      <td>158000</td>\n",
       "      <td>140000</td>\n",
       "      <td>Petrol</td>\n",
       "      <td>Individual</td>\n",
       "      <td>Manual</td>\n",
       "      <td>Third Owner</td>\n",
       "      <td>17.7 kmpl</td>\n",
       "      <td>1497 CC</td>\n",
       "      <td>78 bhp</td>\n",
       "      <td>12.7@ 2,700(kgm@ rpm)</td>\n",
       "      <td>5.0</td>\n",
       "    </tr>\n",
       "    <tr>\n",
       "      <th>3</th>\n",
       "      <td>Hyundai i20 Sportz Diesel</td>\n",
       "      <td>2010</td>\n",
       "      <td>225000</td>\n",
       "      <td>127000</td>\n",
       "      <td>Diesel</td>\n",
       "      <td>Individual</td>\n",
       "      <td>Manual</td>\n",
       "      <td>First Owner</td>\n",
       "      <td>23.0 kmpl</td>\n",
       "      <td>1396 CC</td>\n",
       "      <td>90 bhp</td>\n",
       "      <td>22.4 kgm at 1750-2750rpm</td>\n",
       "      <td>5.0</td>\n",
       "    </tr>\n",
       "    <tr>\n",
       "      <th>4</th>\n",
       "      <td>Maruti Swift VXI BSIII</td>\n",
       "      <td>2007</td>\n",
       "      <td>130000</td>\n",
       "      <td>120000</td>\n",
       "      <td>Petrol</td>\n",
       "      <td>Individual</td>\n",
       "      <td>Manual</td>\n",
       "      <td>First Owner</td>\n",
       "      <td>16.1 kmpl</td>\n",
       "      <td>1298 CC</td>\n",
       "      <td>88.2 bhp</td>\n",
       "      <td>11.5@ 4,500(kgm@ rpm)</td>\n",
       "      <td>5.0</td>\n",
       "    </tr>\n",
       "    <tr>\n",
       "      <th>5</th>\n",
       "      <td>Hyundai Xcent 1.2 VTVT E Plus</td>\n",
       "      <td>2017</td>\n",
       "      <td>440000</td>\n",
       "      <td>45000</td>\n",
       "      <td>Petrol</td>\n",
       "      <td>Individual</td>\n",
       "      <td>Manual</td>\n",
       "      <td>First Owner</td>\n",
       "      <td>20.14 kmpl</td>\n",
       "      <td>1197 CC</td>\n",
       "      <td>81.86 bhp</td>\n",
       "      <td>113.75nm@ 4000rpm</td>\n",
       "      <td>5.0</td>\n",
       "    </tr>\n",
       "    <tr>\n",
       "      <th>6</th>\n",
       "      <td>Maruti Wagon R LXI DUO BSIII</td>\n",
       "      <td>2007</td>\n",
       "      <td>96000</td>\n",
       "      <td>175000</td>\n",
       "      <td>LPG</td>\n",
       "      <td>Individual</td>\n",
       "      <td>Manual</td>\n",
       "      <td>First Owner</td>\n",
       "      <td>17.3 km/kg</td>\n",
       "      <td>1061 CC</td>\n",
       "      <td>57.5 bhp</td>\n",
       "      <td>7.8@ 4,500(kgm@ rpm)</td>\n",
       "      <td>5.0</td>\n",
       "    </tr>\n",
       "    <tr>\n",
       "      <th>7</th>\n",
       "      <td>Maruti 800 DX BSII</td>\n",
       "      <td>2001</td>\n",
       "      <td>45000</td>\n",
       "      <td>5000</td>\n",
       "      <td>Petrol</td>\n",
       "      <td>Individual</td>\n",
       "      <td>Manual</td>\n",
       "      <td>Second Owner</td>\n",
       "      <td>16.1 kmpl</td>\n",
       "      <td>796 CC</td>\n",
       "      <td>37 bhp</td>\n",
       "      <td>59Nm@ 2500rpm</td>\n",
       "      <td>4.0</td>\n",
       "    </tr>\n",
       "    <tr>\n",
       "      <th>8</th>\n",
       "      <td>Toyota Etios VXD</td>\n",
       "      <td>2011</td>\n",
       "      <td>350000</td>\n",
       "      <td>90000</td>\n",
       "      <td>Diesel</td>\n",
       "      <td>Individual</td>\n",
       "      <td>Manual</td>\n",
       "      <td>First Owner</td>\n",
       "      <td>23.59 kmpl</td>\n",
       "      <td>1364 CC</td>\n",
       "      <td>67.1 bhp</td>\n",
       "      <td>170Nm@ 1800-2400rpm</td>\n",
       "      <td>5.0</td>\n",
       "    </tr>\n",
       "    <tr>\n",
       "      <th>9</th>\n",
       "      <td>Ford Figo Diesel Celebration Edition</td>\n",
       "      <td>2013</td>\n",
       "      <td>200000</td>\n",
       "      <td>169000</td>\n",
       "      <td>Diesel</td>\n",
       "      <td>Individual</td>\n",
       "      <td>Manual</td>\n",
       "      <td>First Owner</td>\n",
       "      <td>20.0 kmpl</td>\n",
       "      <td>1399 CC</td>\n",
       "      <td>68.1 bhp</td>\n",
       "      <td>160Nm@ 2000rpm</td>\n",
       "      <td>5.0</td>\n",
       "    </tr>\n",
       "    <tr>\n",
       "      <th>10</th>\n",
       "      <td>Renault Duster 110PS Diesel RxL</td>\n",
       "      <td>2014</td>\n",
       "      <td>500000</td>\n",
       "      <td>68000</td>\n",
       "      <td>Diesel</td>\n",
       "      <td>Individual</td>\n",
       "      <td>Manual</td>\n",
       "      <td>Second Owner</td>\n",
       "      <td>19.01 kmpl</td>\n",
       "      <td>1461 CC</td>\n",
       "      <td>108.45 bhp</td>\n",
       "      <td>248Nm@ 2250rpm</td>\n",
       "      <td>5.0</td>\n",
       "    </tr>\n",
       "    <tr>\n",
       "      <th>11</th>\n",
       "      <td>Maruti Zen LX</td>\n",
       "      <td>2005</td>\n",
       "      <td>92000</td>\n",
       "      <td>100000</td>\n",
       "      <td>Petrol</td>\n",
       "      <td>Individual</td>\n",
       "      <td>Manual</td>\n",
       "      <td>Second Owner</td>\n",
       "      <td>17.3 kmpl</td>\n",
       "      <td>993 CC</td>\n",
       "      <td>60 bhp</td>\n",
       "      <td>78Nm@ 4500rpm</td>\n",
       "      <td>5.0</td>\n",
       "    </tr>\n",
       "    <tr>\n",
       "      <th>12</th>\n",
       "      <td>Maruti Swift Dzire VDi</td>\n",
       "      <td>2009</td>\n",
       "      <td>280000</td>\n",
       "      <td>140000</td>\n",
       "      <td>Diesel</td>\n",
       "      <td>Individual</td>\n",
       "      <td>Manual</td>\n",
       "      <td>Second Owner</td>\n",
       "      <td>19.3 kmpl</td>\n",
       "      <td>1248 CC</td>\n",
       "      <td>73.9 bhp</td>\n",
       "      <td>190Nm@ 2000rpm</td>\n",
       "      <td>5.0</td>\n",
       "    </tr>\n",
       "    <tr>\n",
       "      <th>13</th>\n",
       "      <td>Maruti Swift 1.3 VXi</td>\n",
       "      <td>2007</td>\n",
       "      <td>200000</td>\n",
       "      <td>80000</td>\n",
       "      <td>Petrol</td>\n",
       "      <td>Individual</td>\n",
       "      <td>Manual</td>\n",
       "      <td>Second Owner</td>\n",
       "      <td>NaN</td>\n",
       "      <td>NaN</td>\n",
       "      <td>NaN</td>\n",
       "      <td>NaN</td>\n",
       "      <td>NaN</td>\n",
       "    </tr>\n",
       "    <tr>\n",
       "      <th>14</th>\n",
       "      <td>Maruti Wagon R LXI Minor</td>\n",
       "      <td>2009</td>\n",
       "      <td>180000</td>\n",
       "      <td>90000</td>\n",
       "      <td>Petrol</td>\n",
       "      <td>Individual</td>\n",
       "      <td>Manual</td>\n",
       "      <td>Second Owner</td>\n",
       "      <td>18.9 kmpl</td>\n",
       "      <td>1061 CC</td>\n",
       "      <td>67 bhp</td>\n",
       "      <td>84Nm@ 3500rpm</td>\n",
       "      <td>5.0</td>\n",
       "    </tr>\n",
       "    <tr>\n",
       "      <th>15</th>\n",
       "      <td>Mahindra KUV 100 mFALCON G80 K8 5str</td>\n",
       "      <td>2016</td>\n",
       "      <td>400000</td>\n",
       "      <td>40000</td>\n",
       "      <td>Petrol</td>\n",
       "      <td>Individual</td>\n",
       "      <td>Manual</td>\n",
       "      <td>First Owner</td>\n",
       "      <td>18.15 kmpl</td>\n",
       "      <td>1198 CC</td>\n",
       "      <td>82 bhp</td>\n",
       "      <td>115Nm@ 3500-3600rpm</td>\n",
       "      <td>5.0</td>\n",
       "    </tr>\n",
       "    <tr>\n",
       "      <th>16</th>\n",
       "      <td>Maruti Ertiga SHVS VDI</td>\n",
       "      <td>2016</td>\n",
       "      <td>778000</td>\n",
       "      <td>70000</td>\n",
       "      <td>Diesel</td>\n",
       "      <td>Individual</td>\n",
       "      <td>Manual</td>\n",
       "      <td>Second Owner</td>\n",
       "      <td>24.52 kmpl</td>\n",
       "      <td>1248 CC</td>\n",
       "      <td>88.5 bhp</td>\n",
       "      <td>200Nm@ 1750rpm</td>\n",
       "      <td>7.0</td>\n",
       "    </tr>\n",
       "    <tr>\n",
       "      <th>17</th>\n",
       "      <td>Hyundai i20 1.4 CRDi Asta</td>\n",
       "      <td>2012</td>\n",
       "      <td>500000</td>\n",
       "      <td>53000</td>\n",
       "      <td>Diesel</td>\n",
       "      <td>Individual</td>\n",
       "      <td>Manual</td>\n",
       "      <td>Second Owner</td>\n",
       "      <td>23.0 kmpl</td>\n",
       "      <td>1396 CC</td>\n",
       "      <td>90 bhp</td>\n",
       "      <td>22.4 kgm at 1750-2750rpm</td>\n",
       "      <td>5.0</td>\n",
       "    </tr>\n",
       "    <tr>\n",
       "      <th>18</th>\n",
       "      <td>Maruti Alto LX</td>\n",
       "      <td>2002</td>\n",
       "      <td>150000</td>\n",
       "      <td>80000</td>\n",
       "      <td>Petrol</td>\n",
       "      <td>Individual</td>\n",
       "      <td>Manual</td>\n",
       "      <td>Second Owner</td>\n",
       "      <td>19.7 kmpl</td>\n",
       "      <td>796 CC</td>\n",
       "      <td>46.3 bhp</td>\n",
       "      <td>62Nm@ 3000rpm</td>\n",
       "      <td>5.0</td>\n",
       "    </tr>\n",
       "    <tr>\n",
       "      <th>19</th>\n",
       "      <td>Hyundai i20 2015-2017 Asta 1.4 CRDi</td>\n",
       "      <td>2016</td>\n",
       "      <td>680000</td>\n",
       "      <td>100000</td>\n",
       "      <td>Diesel</td>\n",
       "      <td>Individual</td>\n",
       "      <td>Manual</td>\n",
       "      <td>First Owner</td>\n",
       "      <td>22.54 kmpl</td>\n",
       "      <td>1396 CC</td>\n",
       "      <td>88.73 bhp</td>\n",
       "      <td>219.7Nm@ 1500-2750rpm</td>\n",
       "      <td>5.0</td>\n",
       "    </tr>\n",
       "    <tr>\n",
       "      <th>20</th>\n",
       "      <td>Mahindra Verito 1.5 D4 BSIII</td>\n",
       "      <td>2011</td>\n",
       "      <td>174000</td>\n",
       "      <td>100000</td>\n",
       "      <td>Diesel</td>\n",
       "      <td>Individual</td>\n",
       "      <td>Manual</td>\n",
       "      <td>Second Owner</td>\n",
       "      <td>21.0 kmpl</td>\n",
       "      <td>1461 CC</td>\n",
       "      <td>64.1 bhp</td>\n",
       "      <td>160Nm@ 2000rpm</td>\n",
       "      <td>5.0</td>\n",
       "    </tr>\n",
       "    <tr>\n",
       "      <th>21</th>\n",
       "      <td>Honda WR-V i-DTEC VX</td>\n",
       "      <td>2017</td>\n",
       "      <td>950000</td>\n",
       "      <td>50000</td>\n",
       "      <td>Diesel</td>\n",
       "      <td>Individual</td>\n",
       "      <td>Manual</td>\n",
       "      <td>First Owner</td>\n",
       "      <td>25.5 kmpl</td>\n",
       "      <td>1498 CC</td>\n",
       "      <td>98.6 bhp</td>\n",
       "      <td>200Nm@ 1750rpm</td>\n",
       "      <td>5.0</td>\n",
       "    </tr>\n",
       "    <tr>\n",
       "      <th>22</th>\n",
       "      <td>Maruti Swift Dzire ZDI</td>\n",
       "      <td>2015</td>\n",
       "      <td>525000</td>\n",
       "      <td>40000</td>\n",
       "      <td>Diesel</td>\n",
       "      <td>Individual</td>\n",
       "      <td>Manual</td>\n",
       "      <td>First Owner</td>\n",
       "      <td>26.59 kmpl</td>\n",
       "      <td>1248 CC</td>\n",
       "      <td>74 bhp</td>\n",
       "      <td>190Nm@ 2000rpm</td>\n",
       "      <td>5.0</td>\n",
       "    </tr>\n",
       "    <tr>\n",
       "      <th>23</th>\n",
       "      <td>Maruti SX4 ZDI</td>\n",
       "      <td>2012</td>\n",
       "      <td>600000</td>\n",
       "      <td>72000</td>\n",
       "      <td>Diesel</td>\n",
       "      <td>Individual</td>\n",
       "      <td>Manual</td>\n",
       "      <td>First Owner</td>\n",
       "      <td>21.5 kmpl</td>\n",
       "      <td>1248 CC</td>\n",
       "      <td>88.8 bhp</td>\n",
       "      <td>200Nm@ 1750rpm</td>\n",
       "      <td>5.0</td>\n",
       "    </tr>\n",
       "    <tr>\n",
       "      <th>24</th>\n",
       "      <td>Tata Tigor 2017-2020 XZ</td>\n",
       "      <td>2018</td>\n",
       "      <td>500000</td>\n",
       "      <td>35000</td>\n",
       "      <td>Petrol</td>\n",
       "      <td>Individual</td>\n",
       "      <td>Manual</td>\n",
       "      <td>First Owner</td>\n",
       "      <td>20.3 kmpl</td>\n",
       "      <td>1199 CC</td>\n",
       "      <td>83.81 bhp</td>\n",
       "      <td>114Nm@ 3500rpm</td>\n",
       "      <td>5.0</td>\n",
       "    </tr>\n",
       "    <tr>\n",
       "      <th>25</th>\n",
       "      <td>Maruti Baleno Delta 1.2</td>\n",
       "      <td>2016</td>\n",
       "      <td>575000</td>\n",
       "      <td>45000</td>\n",
       "      <td>Petrol</td>\n",
       "      <td>Individual</td>\n",
       "      <td>Manual</td>\n",
       "      <td>First Owner</td>\n",
       "      <td>21.4 kmpl</td>\n",
       "      <td>1197 CC</td>\n",
       "      <td>83.1 bhp</td>\n",
       "      <td>115Nm@ 4000rpm</td>\n",
       "      <td>5.0</td>\n",
       "    </tr>\n",
       "    <tr>\n",
       "      <th>26</th>\n",
       "      <td>Maruti Alto 800 LXI</td>\n",
       "      <td>2017</td>\n",
       "      <td>275000</td>\n",
       "      <td>28000</td>\n",
       "      <td>Petrol</td>\n",
       "      <td>Individual</td>\n",
       "      <td>Manual</td>\n",
       "      <td>First Owner</td>\n",
       "      <td>24.7 kmpl</td>\n",
       "      <td>796 CC</td>\n",
       "      <td>47.3 bhp</td>\n",
       "      <td>69Nm@ 3500rpm</td>\n",
       "      <td>5.0</td>\n",
       "    </tr>\n",
       "    <tr>\n",
       "      <th>27</th>\n",
       "      <td>Chevrolet Enjoy TCDi LTZ 7 Seater</td>\n",
       "      <td>2013</td>\n",
       "      <td>300000</td>\n",
       "      <td>70000</td>\n",
       "      <td>Diesel</td>\n",
       "      <td>Individual</td>\n",
       "      <td>Manual</td>\n",
       "      <td>First Owner</td>\n",
       "      <td>18.2 kmpl</td>\n",
       "      <td>1248 CC</td>\n",
       "      <td>73.8 bhp</td>\n",
       "      <td>172.5Nm@ 1750rpm</td>\n",
       "      <td>7.0</td>\n",
       "    </tr>\n",
       "    <tr>\n",
       "      <th>28</th>\n",
       "      <td>Maruti Wagon R LXI Minor</td>\n",
       "      <td>2009</td>\n",
       "      <td>220000</td>\n",
       "      <td>120000</td>\n",
       "      <td>Petrol</td>\n",
       "      <td>Individual</td>\n",
       "      <td>Manual</td>\n",
       "      <td>First Owner</td>\n",
       "      <td>18.9 kmpl</td>\n",
       "      <td>1061 CC</td>\n",
       "      <td>67 bhp</td>\n",
       "      <td>84Nm@ 3500rpm</td>\n",
       "      <td>5.0</td>\n",
       "    </tr>\n",
       "    <tr>\n",
       "      <th>29</th>\n",
       "      <td>Maruti Omni E MPI STD BS IV</td>\n",
       "      <td>2018</td>\n",
       "      <td>254999</td>\n",
       "      <td>25000</td>\n",
       "      <td>Petrol</td>\n",
       "      <td>Individual</td>\n",
       "      <td>Manual</td>\n",
       "      <td>First Owner</td>\n",
       "      <td>16.8 kmpl</td>\n",
       "      <td>796 CC</td>\n",
       "      <td>34.2 bhp</td>\n",
       "      <td>59Nm@ 2500rpm</td>\n",
       "      <td>8.0</td>\n",
       "    </tr>\n",
       "    <tr>\n",
       "      <th>30</th>\n",
       "      <td>Maruti Vitara Brezza LDi Option</td>\n",
       "      <td>2017</td>\n",
       "      <td>670000</td>\n",
       "      <td>70000</td>\n",
       "      <td>Diesel</td>\n",
       "      <td>Individual</td>\n",
       "      <td>Manual</td>\n",
       "      <td>First Owner</td>\n",
       "      <td>24.3 kmpl</td>\n",
       "      <td>1248 CC</td>\n",
       "      <td>88.5 bhp</td>\n",
       "      <td>200Nm@ 1750rpm</td>\n",
       "      <td>5.0</td>\n",
       "    </tr>\n",
       "    <tr>\n",
       "      <th>31</th>\n",
       "      <td>Fiat Palio 1.2 ELX</td>\n",
       "      <td>2003</td>\n",
       "      <td>70000</td>\n",
       "      <td>50000</td>\n",
       "      <td>Petrol</td>\n",
       "      <td>Individual</td>\n",
       "      <td>Manual</td>\n",
       "      <td>Second Owner</td>\n",
       "      <td>NaN</td>\n",
       "      <td>NaN</td>\n",
       "      <td>NaN</td>\n",
       "      <td>NaN</td>\n",
       "      <td>NaN</td>\n",
       "    </tr>\n",
       "    <tr>\n",
       "      <th>32</th>\n",
       "      <td>Maruti Omni 8 Seater BSIV</td>\n",
       "      <td>2012</td>\n",
       "      <td>150000</td>\n",
       "      <td>35000</td>\n",
       "      <td>Petrol</td>\n",
       "      <td>Individual</td>\n",
       "      <td>Manual</td>\n",
       "      <td>Second Owner</td>\n",
       "      <td>14.0 kmpl</td>\n",
       "      <td>796 CC</td>\n",
       "      <td>35 bhp</td>\n",
       "      <td>6.1kgm@ 3000rpm</td>\n",
       "      <td>5.0</td>\n",
       "    </tr>\n",
       "    <tr>\n",
       "      <th>33</th>\n",
       "      <td>Hyundai i20 1.2 Asta Dual Tone</td>\n",
       "      <td>2018</td>\n",
       "      <td>730000</td>\n",
       "      <td>2388</td>\n",
       "      <td>Petrol</td>\n",
       "      <td>Individual</td>\n",
       "      <td>Manual</td>\n",
       "      <td>First Owner</td>\n",
       "      <td>18.6 kmpl</td>\n",
       "      <td>1197 CC</td>\n",
       "      <td>81.83 bhp</td>\n",
       "      <td>114.7Nm@ 4000rpm</td>\n",
       "      <td>5.0</td>\n",
       "    </tr>\n",
       "    <tr>\n",
       "      <th>34</th>\n",
       "      <td>Maruti Vitara Brezza LDi</td>\n",
       "      <td>2017</td>\n",
       "      <td>650000</td>\n",
       "      <td>16200</td>\n",
       "      <td>Diesel</td>\n",
       "      <td>Individual</td>\n",
       "      <td>Manual</td>\n",
       "      <td>First Owner</td>\n",
       "      <td>24.3 kmpl</td>\n",
       "      <td>1248 CC</td>\n",
       "      <td>88.5 bhp</td>\n",
       "      <td>200Nm@ 1750rpm</td>\n",
       "      <td>5.0</td>\n",
       "    </tr>\n",
       "    <tr>\n",
       "      <th>35</th>\n",
       "      <td>Maruti Alto 800 CNG LXI Optional</td>\n",
       "      <td>2019</td>\n",
       "      <td>330000</td>\n",
       "      <td>10000</td>\n",
       "      <td>CNG</td>\n",
       "      <td>Individual</td>\n",
       "      <td>Manual</td>\n",
       "      <td>Second Owner</td>\n",
       "      <td>33.44 km/kg</td>\n",
       "      <td>796 CC</td>\n",
       "      <td>40.3 bhp</td>\n",
       "      <td>60Nm@ 3500rpm</td>\n",
       "      <td>4.0</td>\n",
       "    </tr>\n",
       "    <tr>\n",
       "      <th>36</th>\n",
       "      <td>Maruti Alto K10 VXI Airbag</td>\n",
       "      <td>2019</td>\n",
       "      <td>366000</td>\n",
       "      <td>15000</td>\n",
       "      <td>Petrol</td>\n",
       "      <td>Individual</td>\n",
       "      <td>Manual</td>\n",
       "      <td>First Owner</td>\n",
       "      <td>23.95 kmpl</td>\n",
       "      <td>998 CC</td>\n",
       "      <td>67.1 bhp</td>\n",
       "      <td>90Nm@ 3500rpm</td>\n",
       "      <td>5.0</td>\n",
       "    </tr>\n",
       "    <tr>\n",
       "      <th>37</th>\n",
       "      <td>Hyundai Verna VTVT 1.6 SX Option</td>\n",
       "      <td>2019</td>\n",
       "      <td>1149000</td>\n",
       "      <td>5000</td>\n",
       "      <td>Petrol</td>\n",
       "      <td>Individual</td>\n",
       "      <td>Manual</td>\n",
       "      <td>First Owner</td>\n",
       "      <td>17.0 kmpl</td>\n",
       "      <td>1591 CC</td>\n",
       "      <td>121.3 bhp</td>\n",
       "      <td>151Nm@ 4850rpm</td>\n",
       "      <td>5.0</td>\n",
       "    </tr>\n",
       "    <tr>\n",
       "      <th>38</th>\n",
       "      <td>Datsun GO D</td>\n",
       "      <td>2016</td>\n",
       "      <td>150000</td>\n",
       "      <td>42000</td>\n",
       "      <td>Petrol</td>\n",
       "      <td>Individual</td>\n",
       "      <td>Manual</td>\n",
       "      <td>First Owner</td>\n",
       "      <td>20.63 kmpl</td>\n",
       "      <td>1198 CC</td>\n",
       "      <td>67 bhp</td>\n",
       "      <td>104Nm@ 4000rpm</td>\n",
       "      <td>5.0</td>\n",
       "    </tr>\n",
       "    <tr>\n",
       "      <th>39</th>\n",
       "      <td>Tata Safari DICOR 2.2 LX 4x2</td>\n",
       "      <td>2011</td>\n",
       "      <td>425000</td>\n",
       "      <td>60000</td>\n",
       "      <td>Diesel</td>\n",
       "      <td>Individual</td>\n",
       "      <td>Manual</td>\n",
       "      <td>Second Owner</td>\n",
       "      <td>13.93 kmpl</td>\n",
       "      <td>2179 CC</td>\n",
       "      <td>138.03 bhp</td>\n",
       "      <td>320Nm@ 1700-2700rpm</td>\n",
       "      <td>7.0</td>\n",
       "    </tr>\n",
       "    <tr>\n",
       "      <th>40</th>\n",
       "      <td>Maruti 800 Std</td>\n",
       "      <td>2012</td>\n",
       "      <td>150000</td>\n",
       "      <td>76000</td>\n",
       "      <td>Petrol</td>\n",
       "      <td>Individual</td>\n",
       "      <td>Manual</td>\n",
       "      <td>First Owner</td>\n",
       "      <td>16.1 kmpl</td>\n",
       "      <td>796 CC</td>\n",
       "      <td>37 bhp</td>\n",
       "      <td>59Nm@ 2500rpm</td>\n",
       "      <td>4.0</td>\n",
       "    </tr>\n",
       "    <tr>\n",
       "      <th>41</th>\n",
       "      <td>Jeep Compass 1.4 Limited Plus BSIV</td>\n",
       "      <td>2019</td>\n",
       "      <td>2100000</td>\n",
       "      <td>5000</td>\n",
       "      <td>Petrol</td>\n",
       "      <td>Individual</td>\n",
       "      <td>Automatic</td>\n",
       "      <td>First Owner</td>\n",
       "      <td>16.0 kmpl</td>\n",
       "      <td>1368 CC</td>\n",
       "      <td>160.77 bhp</td>\n",
       "      <td>250Nm@ 1750-2500rpm</td>\n",
       "      <td>5.0</td>\n",
       "    </tr>\n",
       "    <tr>\n",
       "      <th>42</th>\n",
       "      <td>Honda City i VTEC VX</td>\n",
       "      <td>2018</td>\n",
       "      <td>925000</td>\n",
       "      <td>28900</td>\n",
       "      <td>Petrol</td>\n",
       "      <td>Dealer</td>\n",
       "      <td>Manual</td>\n",
       "      <td>First Owner</td>\n",
       "      <td>17.8 kmpl</td>\n",
       "      <td>1497 CC</td>\n",
       "      <td>117.3 bhp</td>\n",
       "      <td>145Nm@ 4600rpm</td>\n",
       "      <td>5.0</td>\n",
       "    </tr>\n",
       "    <tr>\n",
       "      <th>43</th>\n",
       "      <td>Honda City V MT</td>\n",
       "      <td>2013</td>\n",
       "      <td>425000</td>\n",
       "      <td>86300</td>\n",
       "      <td>Petrol</td>\n",
       "      <td>Dealer</td>\n",
       "      <td>Manual</td>\n",
       "      <td>First Owner</td>\n",
       "      <td>16.8 kmpl</td>\n",
       "      <td>1497 CC</td>\n",
       "      <td>116.3 bhp</td>\n",
       "      <td>146Nm@ 4800rpm</td>\n",
       "      <td>5.0</td>\n",
       "    </tr>\n",
       "    <tr>\n",
       "      <th>44</th>\n",
       "      <td>Maruti Swift Dzire VXi AT</td>\n",
       "      <td>2018</td>\n",
       "      <td>675000</td>\n",
       "      <td>23300</td>\n",
       "      <td>Petrol</td>\n",
       "      <td>Dealer</td>\n",
       "      <td>Automatic</td>\n",
       "      <td>First Owner</td>\n",
       "      <td>18.5 kmpl</td>\n",
       "      <td>1197 CC</td>\n",
       "      <td>83.14 bhp</td>\n",
       "      <td>115Nm@ 4000rpm</td>\n",
       "      <td>5.0</td>\n",
       "    </tr>\n",
       "    <tr>\n",
       "      <th>45</th>\n",
       "      <td>Maruti Vitara Brezza VDi</td>\n",
       "      <td>2018</td>\n",
       "      <td>819999</td>\n",
       "      <td>32600</td>\n",
       "      <td>Diesel</td>\n",
       "      <td>Dealer</td>\n",
       "      <td>Manual</td>\n",
       "      <td>First Owner</td>\n",
       "      <td>24.3 kmpl</td>\n",
       "      <td>1248 CC</td>\n",
       "      <td>88.5 bhp</td>\n",
       "      <td>200Nm@ 1750rpm</td>\n",
       "      <td>5.0</td>\n",
       "    </tr>\n",
       "    <tr>\n",
       "      <th>46</th>\n",
       "      <td>Maruti Alto K10 VXI</td>\n",
       "      <td>2018</td>\n",
       "      <td>390000</td>\n",
       "      <td>10300</td>\n",
       "      <td>Petrol</td>\n",
       "      <td>Dealer</td>\n",
       "      <td>Manual</td>\n",
       "      <td>First Owner</td>\n",
       "      <td>23.95 kmpl</td>\n",
       "      <td>998 CC</td>\n",
       "      <td>67.05 bhp</td>\n",
       "      <td>90Nm@ 3500rpm</td>\n",
       "      <td>5.0</td>\n",
       "    </tr>\n",
       "    <tr>\n",
       "      <th>47</th>\n",
       "      <td>Toyota Fortuner 4x4 MT</td>\n",
       "      <td>2014</td>\n",
       "      <td>1500000</td>\n",
       "      <td>77000</td>\n",
       "      <td>Diesel</td>\n",
       "      <td>Dealer</td>\n",
       "      <td>Manual</td>\n",
       "      <td>First Owner</td>\n",
       "      <td>12.55 kmpl</td>\n",
       "      <td>2982 CC</td>\n",
       "      <td>168.5 bhp</td>\n",
       "      <td>343Nm@ 1400-3400rpm</td>\n",
       "      <td>7.0</td>\n",
       "    </tr>\n",
       "    <tr>\n",
       "      <th>48</th>\n",
       "      <td>Toyota Innova 2.5 G (Diesel) 7 Seater BS IV</td>\n",
       "      <td>2013</td>\n",
       "      <td>700000</td>\n",
       "      <td>99000</td>\n",
       "      <td>Diesel</td>\n",
       "      <td>Dealer</td>\n",
       "      <td>Manual</td>\n",
       "      <td>First Owner</td>\n",
       "      <td>12.99 kmpl</td>\n",
       "      <td>2494 CC</td>\n",
       "      <td>100 bhp</td>\n",
       "      <td>200Nm@ 1400-3400rpm</td>\n",
       "      <td>7.0</td>\n",
       "    </tr>\n",
       "    <tr>\n",
       "      <th>49</th>\n",
       "      <td>Mercedes-Benz B Class B180</td>\n",
       "      <td>2014</td>\n",
       "      <td>1450000</td>\n",
       "      <td>27800</td>\n",
       "      <td>Diesel</td>\n",
       "      <td>Dealer</td>\n",
       "      <td>Automatic</td>\n",
       "      <td>Second Owner</td>\n",
       "      <td>14.8 kmpl</td>\n",
       "      <td>2143 CC</td>\n",
       "      <td>120.7 bhp</td>\n",
       "      <td>200Nm@ 1250-4000rpm</td>\n",
       "      <td>5.0</td>\n",
       "    </tr>\n",
       "  </tbody>\n",
       "</table>\n",
       "</div>"
      ],
      "text/plain": [
       "                                           name  year  selling_price  \\\n",
       "0                        Maruti Swift Dzire VDI  2014         450000   \n",
       "1                  Skoda Rapid 1.5 TDI Ambition  2014         370000   \n",
       "2                      Honda City 2017-2020 EXi  2006         158000   \n",
       "3                     Hyundai i20 Sportz Diesel  2010         225000   \n",
       "4                        Maruti Swift VXI BSIII  2007         130000   \n",
       "5                 Hyundai Xcent 1.2 VTVT E Plus  2017         440000   \n",
       "6                  Maruti Wagon R LXI DUO BSIII  2007          96000   \n",
       "7                            Maruti 800 DX BSII  2001          45000   \n",
       "8                              Toyota Etios VXD  2011         350000   \n",
       "9          Ford Figo Diesel Celebration Edition  2013         200000   \n",
       "10              Renault Duster 110PS Diesel RxL  2014         500000   \n",
       "11                                Maruti Zen LX  2005          92000   \n",
       "12                       Maruti Swift Dzire VDi  2009         280000   \n",
       "13                         Maruti Swift 1.3 VXi  2007         200000   \n",
       "14                     Maruti Wagon R LXI Minor  2009         180000   \n",
       "15         Mahindra KUV 100 mFALCON G80 K8 5str  2016         400000   \n",
       "16                       Maruti Ertiga SHVS VDI  2016         778000   \n",
       "17                    Hyundai i20 1.4 CRDi Asta  2012         500000   \n",
       "18                               Maruti Alto LX  2002         150000   \n",
       "19          Hyundai i20 2015-2017 Asta 1.4 CRDi  2016         680000   \n",
       "20                 Mahindra Verito 1.5 D4 BSIII  2011         174000   \n",
       "21                         Honda WR-V i-DTEC VX  2017         950000   \n",
       "22                       Maruti Swift Dzire ZDI  2015         525000   \n",
       "23                               Maruti SX4 ZDI  2012         600000   \n",
       "24                      Tata Tigor 2017-2020 XZ  2018         500000   \n",
       "25                      Maruti Baleno Delta 1.2  2016         575000   \n",
       "26                          Maruti Alto 800 LXI  2017         275000   \n",
       "27            Chevrolet Enjoy TCDi LTZ 7 Seater  2013         300000   \n",
       "28                     Maruti Wagon R LXI Minor  2009         220000   \n",
       "29                  Maruti Omni E MPI STD BS IV  2018         254999   \n",
       "30              Maruti Vitara Brezza LDi Option  2017         670000   \n",
       "31                           Fiat Palio 1.2 ELX  2003          70000   \n",
       "32                    Maruti Omni 8 Seater BSIV  2012         150000   \n",
       "33               Hyundai i20 1.2 Asta Dual Tone  2018         730000   \n",
       "34                     Maruti Vitara Brezza LDi  2017         650000   \n",
       "35             Maruti Alto 800 CNG LXI Optional  2019         330000   \n",
       "36                   Maruti Alto K10 VXI Airbag  2019         366000   \n",
       "37             Hyundai Verna VTVT 1.6 SX Option  2019        1149000   \n",
       "38                                  Datsun GO D  2016         150000   \n",
       "39                 Tata Safari DICOR 2.2 LX 4x2  2011         425000   \n",
       "40                               Maruti 800 Std  2012         150000   \n",
       "41           Jeep Compass 1.4 Limited Plus BSIV  2019        2100000   \n",
       "42                         Honda City i VTEC VX  2018         925000   \n",
       "43                              Honda City V MT  2013         425000   \n",
       "44                    Maruti Swift Dzire VXi AT  2018         675000   \n",
       "45                     Maruti Vitara Brezza VDi  2018         819999   \n",
       "46                          Maruti Alto K10 VXI  2018         390000   \n",
       "47                       Toyota Fortuner 4x4 MT  2014        1500000   \n",
       "48  Toyota Innova 2.5 G (Diesel) 7 Seater BS IV  2013         700000   \n",
       "49                   Mercedes-Benz B Class B180  2014        1450000   \n",
       "\n",
       "    km_driven    fuel seller_type transmission         owner      mileage  \\\n",
       "0      145500  Diesel  Individual       Manual   First Owner    23.4 kmpl   \n",
       "1      120000  Diesel  Individual       Manual  Second Owner   21.14 kmpl   \n",
       "2      140000  Petrol  Individual       Manual   Third Owner    17.7 kmpl   \n",
       "3      127000  Diesel  Individual       Manual   First Owner    23.0 kmpl   \n",
       "4      120000  Petrol  Individual       Manual   First Owner    16.1 kmpl   \n",
       "5       45000  Petrol  Individual       Manual   First Owner   20.14 kmpl   \n",
       "6      175000     LPG  Individual       Manual   First Owner   17.3 km/kg   \n",
       "7        5000  Petrol  Individual       Manual  Second Owner    16.1 kmpl   \n",
       "8       90000  Diesel  Individual       Manual   First Owner   23.59 kmpl   \n",
       "9      169000  Diesel  Individual       Manual   First Owner    20.0 kmpl   \n",
       "10      68000  Diesel  Individual       Manual  Second Owner   19.01 kmpl   \n",
       "11     100000  Petrol  Individual       Manual  Second Owner    17.3 kmpl   \n",
       "12     140000  Diesel  Individual       Manual  Second Owner    19.3 kmpl   \n",
       "13      80000  Petrol  Individual       Manual  Second Owner          NaN   \n",
       "14      90000  Petrol  Individual       Manual  Second Owner    18.9 kmpl   \n",
       "15      40000  Petrol  Individual       Manual   First Owner   18.15 kmpl   \n",
       "16      70000  Diesel  Individual       Manual  Second Owner   24.52 kmpl   \n",
       "17      53000  Diesel  Individual       Manual  Second Owner    23.0 kmpl   \n",
       "18      80000  Petrol  Individual       Manual  Second Owner    19.7 kmpl   \n",
       "19     100000  Diesel  Individual       Manual   First Owner   22.54 kmpl   \n",
       "20     100000  Diesel  Individual       Manual  Second Owner    21.0 kmpl   \n",
       "21      50000  Diesel  Individual       Manual   First Owner    25.5 kmpl   \n",
       "22      40000  Diesel  Individual       Manual   First Owner   26.59 kmpl   \n",
       "23      72000  Diesel  Individual       Manual   First Owner    21.5 kmpl   \n",
       "24      35000  Petrol  Individual       Manual   First Owner    20.3 kmpl   \n",
       "25      45000  Petrol  Individual       Manual   First Owner    21.4 kmpl   \n",
       "26      28000  Petrol  Individual       Manual   First Owner    24.7 kmpl   \n",
       "27      70000  Diesel  Individual       Manual   First Owner    18.2 kmpl   \n",
       "28     120000  Petrol  Individual       Manual   First Owner    18.9 kmpl   \n",
       "29      25000  Petrol  Individual       Manual   First Owner    16.8 kmpl   \n",
       "30      70000  Diesel  Individual       Manual   First Owner    24.3 kmpl   \n",
       "31      50000  Petrol  Individual       Manual  Second Owner          NaN   \n",
       "32      35000  Petrol  Individual       Manual  Second Owner    14.0 kmpl   \n",
       "33       2388  Petrol  Individual       Manual   First Owner    18.6 kmpl   \n",
       "34      16200  Diesel  Individual       Manual   First Owner    24.3 kmpl   \n",
       "35      10000     CNG  Individual       Manual  Second Owner  33.44 km/kg   \n",
       "36      15000  Petrol  Individual       Manual   First Owner   23.95 kmpl   \n",
       "37       5000  Petrol  Individual       Manual   First Owner    17.0 kmpl   \n",
       "38      42000  Petrol  Individual       Manual   First Owner   20.63 kmpl   \n",
       "39      60000  Diesel  Individual       Manual  Second Owner   13.93 kmpl   \n",
       "40      76000  Petrol  Individual       Manual   First Owner    16.1 kmpl   \n",
       "41       5000  Petrol  Individual    Automatic   First Owner    16.0 kmpl   \n",
       "42      28900  Petrol      Dealer       Manual   First Owner    17.8 kmpl   \n",
       "43      86300  Petrol      Dealer       Manual   First Owner    16.8 kmpl   \n",
       "44      23300  Petrol      Dealer    Automatic   First Owner    18.5 kmpl   \n",
       "45      32600  Diesel      Dealer       Manual   First Owner    24.3 kmpl   \n",
       "46      10300  Petrol      Dealer       Manual   First Owner   23.95 kmpl   \n",
       "47      77000  Diesel      Dealer       Manual   First Owner   12.55 kmpl   \n",
       "48      99000  Diesel      Dealer       Manual   First Owner   12.99 kmpl   \n",
       "49      27800  Diesel      Dealer    Automatic  Second Owner    14.8 kmpl   \n",
       "\n",
       "     engine   max_power                    torque  seats  \n",
       "0   1248 CC      74 bhp            190Nm@ 2000rpm    5.0  \n",
       "1   1498 CC  103.52 bhp       250Nm@ 1500-2500rpm    5.0  \n",
       "2   1497 CC      78 bhp     12.7@ 2,700(kgm@ rpm)    5.0  \n",
       "3   1396 CC      90 bhp  22.4 kgm at 1750-2750rpm    5.0  \n",
       "4   1298 CC    88.2 bhp     11.5@ 4,500(kgm@ rpm)    5.0  \n",
       "5   1197 CC   81.86 bhp         113.75nm@ 4000rpm    5.0  \n",
       "6   1061 CC    57.5 bhp      7.8@ 4,500(kgm@ rpm)    5.0  \n",
       "7    796 CC      37 bhp             59Nm@ 2500rpm    4.0  \n",
       "8   1364 CC    67.1 bhp       170Nm@ 1800-2400rpm    5.0  \n",
       "9   1399 CC    68.1 bhp            160Nm@ 2000rpm    5.0  \n",
       "10  1461 CC  108.45 bhp            248Nm@ 2250rpm    5.0  \n",
       "11   993 CC      60 bhp             78Nm@ 4500rpm    5.0  \n",
       "12  1248 CC    73.9 bhp            190Nm@ 2000rpm    5.0  \n",
       "13      NaN         NaN                       NaN    NaN  \n",
       "14  1061 CC      67 bhp             84Nm@ 3500rpm    5.0  \n",
       "15  1198 CC      82 bhp       115Nm@ 3500-3600rpm    5.0  \n",
       "16  1248 CC    88.5 bhp            200Nm@ 1750rpm    7.0  \n",
       "17  1396 CC      90 bhp  22.4 kgm at 1750-2750rpm    5.0  \n",
       "18   796 CC    46.3 bhp             62Nm@ 3000rpm    5.0  \n",
       "19  1396 CC   88.73 bhp     219.7Nm@ 1500-2750rpm    5.0  \n",
       "20  1461 CC    64.1 bhp            160Nm@ 2000rpm    5.0  \n",
       "21  1498 CC    98.6 bhp            200Nm@ 1750rpm    5.0  \n",
       "22  1248 CC      74 bhp            190Nm@ 2000rpm    5.0  \n",
       "23  1248 CC    88.8 bhp            200Nm@ 1750rpm    5.0  \n",
       "24  1199 CC   83.81 bhp            114Nm@ 3500rpm    5.0  \n",
       "25  1197 CC    83.1 bhp            115Nm@ 4000rpm    5.0  \n",
       "26   796 CC    47.3 bhp             69Nm@ 3500rpm    5.0  \n",
       "27  1248 CC    73.8 bhp          172.5Nm@ 1750rpm    7.0  \n",
       "28  1061 CC      67 bhp             84Nm@ 3500rpm    5.0  \n",
       "29   796 CC    34.2 bhp             59Nm@ 2500rpm    8.0  \n",
       "30  1248 CC    88.5 bhp            200Nm@ 1750rpm    5.0  \n",
       "31      NaN         NaN                       NaN    NaN  \n",
       "32   796 CC      35 bhp           6.1kgm@ 3000rpm    5.0  \n",
       "33  1197 CC   81.83 bhp          114.7Nm@ 4000rpm    5.0  \n",
       "34  1248 CC    88.5 bhp            200Nm@ 1750rpm    5.0  \n",
       "35   796 CC    40.3 bhp             60Nm@ 3500rpm    4.0  \n",
       "36   998 CC    67.1 bhp             90Nm@ 3500rpm    5.0  \n",
       "37  1591 CC   121.3 bhp            151Nm@ 4850rpm    5.0  \n",
       "38  1198 CC      67 bhp            104Nm@ 4000rpm    5.0  \n",
       "39  2179 CC  138.03 bhp       320Nm@ 1700-2700rpm    7.0  \n",
       "40   796 CC      37 bhp             59Nm@ 2500rpm    4.0  \n",
       "41  1368 CC  160.77 bhp       250Nm@ 1750-2500rpm    5.0  \n",
       "42  1497 CC   117.3 bhp            145Nm@ 4600rpm    5.0  \n",
       "43  1497 CC   116.3 bhp            146Nm@ 4800rpm    5.0  \n",
       "44  1197 CC   83.14 bhp            115Nm@ 4000rpm    5.0  \n",
       "45  1248 CC    88.5 bhp            200Nm@ 1750rpm    5.0  \n",
       "46   998 CC   67.05 bhp             90Nm@ 3500rpm    5.0  \n",
       "47  2982 CC   168.5 bhp       343Nm@ 1400-3400rpm    7.0  \n",
       "48  2494 CC     100 bhp       200Nm@ 1400-3400rpm    7.0  \n",
       "49  2143 CC   120.7 bhp       200Nm@ 1250-4000rpm    5.0  "
      ]
     },
     "execution_count": 216,
     "metadata": {},
     "output_type": "execute_result"
    }
   ],
   "source": [
    "#1. analisis exploratorio de los datos\n",
    "\n",
    "import pandas as pd \n",
    "import numpy as np \n",
    "import seaborn as sns \n",
    "import matplotlib.pyplot as plt\n",
    "import datetime\n",
    "\n",
    "import numpy as np\n",
    "import pandas as pd\n",
    "\n",
    "import matplotlib.pyplot as plt\n",
    "import seaborn as sns\n",
    "%matplotlib inline\n",
    "\n",
    "# librerías para implementar modelos de ciencia de datos\n",
    "from sklearn import metrics\n",
    "from sklearn.model_selection import train_test_split\n",
    "from sklearn.linear_model import LinearRegression \n",
    "from sklearn.metrics import classification_report, confusion_matrix\n",
    "from sklearn.compose import ColumnTransformer\n",
    "from sklearn.preprocessing import OneHotEncoder\n",
    "from sklearn.model_selection import train_test_split\n",
    "from sklearn.preprocessing import OneHotEncoder\n",
    "from sklearn.linear_model import LinearRegression\n",
    "from sklearn.model_selection import train_test_split\n",
    "from sklearn.linear_model import LinearRegression\n",
    "from sklearn.ensemble import RandomForestRegressor\n",
    "from sklearn.preprocessing import StandardScaler\n",
    "from sklearn.metrics import r2_score\n",
    "\n",
    "#cargar datos \n",
    "archivo = pd.read_csv('./Cardetailsv3.csv')\n",
    "archivo.head(50)\n",
    "\n"
   ]
  },
  {
   "cell_type": "code",
   "execution_count": 6,
   "id": "5a9a4341-67b6-4205-874e-5e8ac36056fa",
   "metadata": {},
   "outputs": [
    {
     "data": {
      "text/html": [
       "<div>\n",
       "<style scoped>\n",
       "    .dataframe tbody tr th:only-of-type {\n",
       "        vertical-align: middle;\n",
       "    }\n",
       "\n",
       "    .dataframe tbody tr th {\n",
       "        vertical-align: top;\n",
       "    }\n",
       "\n",
       "    .dataframe thead th {\n",
       "        text-align: right;\n",
       "    }\n",
       "</style>\n",
       "<table border=\"1\" class=\"dataframe\">\n",
       "  <thead>\n",
       "    <tr style=\"text-align: right;\">\n",
       "      <th></th>\n",
       "      <th>year</th>\n",
       "      <th>selling_price</th>\n",
       "      <th>km_driven</th>\n",
       "      <th>seats</th>\n",
       "    </tr>\n",
       "  </thead>\n",
       "  <tbody>\n",
       "    <tr>\n",
       "      <th>count</th>\n",
       "      <td>8128.000000</td>\n",
       "      <td>8.128000e+03</td>\n",
       "      <td>8.128000e+03</td>\n",
       "      <td>7907.000000</td>\n",
       "    </tr>\n",
       "    <tr>\n",
       "      <th>mean</th>\n",
       "      <td>2013.804011</td>\n",
       "      <td>6.382718e+05</td>\n",
       "      <td>6.981951e+04</td>\n",
       "      <td>5.416719</td>\n",
       "    </tr>\n",
       "    <tr>\n",
       "      <th>std</th>\n",
       "      <td>4.044249</td>\n",
       "      <td>8.062534e+05</td>\n",
       "      <td>5.655055e+04</td>\n",
       "      <td>0.959588</td>\n",
       "    </tr>\n",
       "    <tr>\n",
       "      <th>min</th>\n",
       "      <td>1983.000000</td>\n",
       "      <td>2.999900e+04</td>\n",
       "      <td>1.000000e+00</td>\n",
       "      <td>2.000000</td>\n",
       "    </tr>\n",
       "    <tr>\n",
       "      <th>25%</th>\n",
       "      <td>2011.000000</td>\n",
       "      <td>2.549990e+05</td>\n",
       "      <td>3.500000e+04</td>\n",
       "      <td>5.000000</td>\n",
       "    </tr>\n",
       "    <tr>\n",
       "      <th>50%</th>\n",
       "      <td>2015.000000</td>\n",
       "      <td>4.500000e+05</td>\n",
       "      <td>6.000000e+04</td>\n",
       "      <td>5.000000</td>\n",
       "    </tr>\n",
       "    <tr>\n",
       "      <th>75%</th>\n",
       "      <td>2017.000000</td>\n",
       "      <td>6.750000e+05</td>\n",
       "      <td>9.800000e+04</td>\n",
       "      <td>5.000000</td>\n",
       "    </tr>\n",
       "    <tr>\n",
       "      <th>max</th>\n",
       "      <td>2020.000000</td>\n",
       "      <td>1.000000e+07</td>\n",
       "      <td>2.360457e+06</td>\n",
       "      <td>14.000000</td>\n",
       "    </tr>\n",
       "  </tbody>\n",
       "</table>\n",
       "</div>"
      ],
      "text/plain": [
       "              year  selling_price     km_driven        seats\n",
       "count  8128.000000   8.128000e+03  8.128000e+03  7907.000000\n",
       "mean   2013.804011   6.382718e+05  6.981951e+04     5.416719\n",
       "std       4.044249   8.062534e+05  5.655055e+04     0.959588\n",
       "min    1983.000000   2.999900e+04  1.000000e+00     2.000000\n",
       "25%    2011.000000   2.549990e+05  3.500000e+04     5.000000\n",
       "50%    2015.000000   4.500000e+05  6.000000e+04     5.000000\n",
       "75%    2017.000000   6.750000e+05  9.800000e+04     5.000000\n",
       "max    2020.000000   1.000000e+07  2.360457e+06    14.000000"
      ]
     },
     "execution_count": 6,
     "metadata": {},
     "output_type": "execute_result"
    }
   ],
   "source": [
    "#ver datos atipicos\n",
    "archivo.describe()"
   ]
  },
  {
   "cell_type": "code",
   "execution_count": 11,
   "id": "0811ac86-c69c-4804-92f1-9f242eb455c7",
   "metadata": {},
   "outputs": [
    {
     "data": {
      "text/plain": [
       "Text(0.5, 1.0, 'Identificación de Datos Faltantes y Atípicos')"
      ]
     },
     "execution_count": 11,
     "metadata": {},
     "output_type": "execute_result"
    },
    {
     "data": {
      "image/png": "[encoded data removed]",
      "text/plain": [
       "<Figure size 600x300 with 1 Axes>"
      ]
     },
     "metadata": {},
     "output_type": "display_data"
    }
   ],
   "source": [
    "#cargar graficas con datos atipicos\n",
    "plt.figure(figsize=(6, 3))\n",
    "sns.boxplot(x=archivo['year'])\n",
    "plt.title('Identificación de Datos Faltantes y Atípicos', fontsize=10)"
   ]
  },
  {
   "cell_type": "code",
   "execution_count": 11,
   "id": "e0e93fd0-25cc-4da2-aa2f-1ea3a199acbe",
   "metadata": {},
   "outputs": [
    {
     "data": {
      "text/plain": [
       "Text(0.5, 1.0, 'Identificación de Datos Faltantes y Atípicos')"
      ]
     },
     "execution_count": 11,
     "metadata": {},
     "output_type": "execute_result"
    },
    {
     "data": {
      "image/png": "[encoded data removed]",
      "text/plain": [
       "<Figure size 600x300 with 1 Axes>"
      ]
     },
     "metadata": {},
     "output_type": "display_data"
    }
   ],
   "source": [
    "#cargar graficas con datos atipicos\n",
    "plt.figure(figsize=(6, 3))\n",
    "sns.boxplot(x=archivo['selling_price'])\n",
    "plt.title('Identificación de Datos Faltantes y Atípicos', fontsize=10)"
   ]
  },
  {
   "cell_type": "code",
   "execution_count": 11,
   "id": "9a5bb2f6-0d9b-47ab-bf75-1f9b0032eb5c",
   "metadata": {},
   "outputs": [
    {
     "data": {
      "text/plain": [
       "Text(0.5, 1.0, 'Identificación de Datos Faltantes y Atípicos')"
      ]
     },
     "execution_count": 11,
     "metadata": {},
     "output_type": "execute_result"
    },
    {
     "data": {
      "image/png": "[encoded data removed]",
      "text/plain": [
       "<Figure size 600x300 with 1 Axes>"
      ]
     },
     "metadata": {},
     "output_type": "display_data"
    }
   ],
   "source": [
    "#cargar graficas con datos atipicos\n",
    "plt.figure(figsize=(6, 3))\n",
    "sns.boxplot(x=archivo['km_driven'])\n",
    "plt.title('Identificación de Datos Faltantes y Atípicos', fontsize=10)"
   ]
  },
  {
   "cell_type": "code",
   "execution_count": 12,
   "id": "b4a31176-4acf-4251-9565-39be113173e2",
   "metadata": {},
   "outputs": [
    {
     "data": {
      "text/plain": [
       "Text(0.5, 1.0, 'Identificación de Datos Faltantes y Atípicos')"
      ]
     },
     "execution_count": 12,
     "metadata": {},
     "output_type": "execute_result"
    },
    {
     "data": {
      "image/png": "[encoded data removed]",
      "text/plain": [
       "<Figure size 600x300 with 1 Axes>"
      ]
     },
     "metadata": {},
     "output_type": "display_data"
    }
   ],
   "source": [
    "#cargar graficas con datos atipicos\n",
    "plt.figure(figsize=(6, 3))\n",
    "sns.boxplot(x=archivo['seats'])\n",
    "plt.title('Identificación de Datos Faltantes y Atípicos', fontsize=10)"
   ]
  },
  {
   "cell_type": "code",
   "execution_count": 16,
   "id": "8c48a04f-4fe6-4e21-8907-0001caf7017e",
   "metadata": {},
   "outputs": [
    {
     "name": "stdout",
     "output_type": "stream",
     "text": [
      "Cantidad de Registros con cero en año:  0\n"
     ]
    }
   ],
   "source": [
    "#Preprocesar los datos limpiándolos, tratando valores faltantes y transformándolos según sea necesario\n",
    "print(\"Cantidad de Registros con cero en nombre: \",archivo['name'].isin([0]).sum())"
   ]
  },
  {
   "cell_type": "code",
   "execution_count": 14,
   "id": "2f6a42fb-4fb1-4e9c-b48c-345c80852f5c",
   "metadata": {},
   "outputs": [
    {
     "name": "stdout",
     "output_type": "stream",
     "text": [
      "Cantidad de Registros con cero en año:  0\n"
     ]
    }
   ],
   "source": [
    "print(\"Cantidad de Registros con cero en año: \",archivo['year'].isin([0]).sum())"
   ]
  },
  {
   "cell_type": "code",
   "execution_count": 14,
   "id": "0581a9db-3e6a-4c59-91b0-dd423dec09fc",
   "metadata": {},
   "outputs": [
    {
     "name": "stdout",
     "output_type": "stream",
     "text": [
      "Cantidad de Registros con cero en año:  0\n"
     ]
    }
   ],
   "source": [
    "print(\"Cantidad de Registros con cero en precio: \",archivo['selling_price'].isin([0]).sum())"
   ]
  },
  {
   "cell_type": "code",
   "execution_count": 14,
   "id": "56f8b22f-e6f0-4813-a44f-f733e62d82f0",
   "metadata": {},
   "outputs": [
    {
     "name": "stdout",
     "output_type": "stream",
     "text": [
      "Cantidad de Registros con cero en año:  0\n"
     ]
    }
   ],
   "source": [
    "print(\"Cantidad de Registros con cero en kilometraje: \",archivo['km_driven'].isin([0]).sum())"
   ]
  },
  {
   "cell_type": "code",
   "execution_count": 14,
   "id": "68178b5e-16c6-48a0-8a9a-555ff47d5c17",
   "metadata": {},
   "outputs": [
    {
     "name": "stdout",
     "output_type": "stream",
     "text": [
      "Cantidad de Registros con cero en año:  0\n"
     ]
    }
   ],
   "source": [
    "print(\"Cantidad de Registros con cero en tipo de combustible: \",archivo['fuel'].isin([0]).sum())"
   ]
  },
  {
   "cell_type": "code",
   "execution_count": 14,
   "id": "1820636b-e183-4863-9724-3da5008d32dd",
   "metadata": {},
   "outputs": [
    {
     "name": "stdout",
     "output_type": "stream",
     "text": [
      "Cantidad de Registros con cero en año:  0\n"
     ]
    }
   ],
   "source": [
    "print(\"Cantidad de Registros con cero en tipo de vendedor: \",archivo['seller_type'].isin([0]).sum())"
   ]
  },
  {
   "cell_type": "code",
   "execution_count": 14,
   "id": "e1777200-b5fc-4402-a841-f7f99f18868a",
   "metadata": {},
   "outputs": [
    {
     "name": "stdout",
     "output_type": "stream",
     "text": [
      "Cantidad de Registros con cero en año:  0\n"
     ]
    }
   ],
   "source": [
    "print(\"Cantidad de Registros con cero en tipo de caja: \",archivo['transmission'].isin([0]).sum())"
   ]
  },
  {
   "cell_type": "code",
   "execution_count": 14,
   "id": "ba3527cb-fbe3-489c-b86c-822c181e5cc2",
   "metadata": {},
   "outputs": [
    {
     "name": "stdout",
     "output_type": "stream",
     "text": [
      "Cantidad de Registros con cero en año:  0\n"
     ]
    }
   ],
   "source": [
    "print(\"Cantidad de Registros con cero en cantidad de dueños en el pasado: \",archivo['owner'].isin([0]).sum())"
   ]
  },
  {
   "cell_type": "code",
   "execution_count": 14,
   "id": "32736f13-1912-4a27-888b-4ff9eadb365e",
   "metadata": {},
   "outputs": [
    {
     "name": "stdout",
     "output_type": "stream",
     "text": [
      "Cantidad de Registros con cero en año:  0\n"
     ]
    }
   ],
   "source": [
    "print(\"Cantidad de Registros con cero en kilometros por galon: \",archivo['mileage'].isin([0]).sum())"
   ]
  },
  {
   "cell_type": "code",
   "execution_count": 14,
   "id": "aa900f53-62cc-40f5-b771-ca90812682f9",
   "metadata": {},
   "outputs": [
    {
     "name": "stdout",
     "output_type": "stream",
     "text": [
      "Cantidad de Registros con cero en año:  0\n"
     ]
    }
   ],
   "source": [
    "print(\"Cantidad de Registros con cero en tamaño de motor: \",archivo['engine'].isin([0]).sum())"
   ]
  },
  {
   "cell_type": "code",
   "execution_count": 14,
   "id": "5a51d8e6-c798-4660-ba2f-29ac3a3b835b",
   "metadata": {},
   "outputs": [
    {
     "name": "stdout",
     "output_type": "stream",
     "text": [
      "Cantidad de Registros con cero en año:  0\n"
     ]
    }
   ],
   "source": [
    "print(\"Cantidad de Registros con cero en poder maximo: \",archivo['max_power'].isin([0]).sum())"
   ]
  },
  {
   "cell_type": "code",
   "execution_count": 14,
   "id": "d4d62c90-8987-497d-9cf7-207d5b48bc2b",
   "metadata": {},
   "outputs": [
    {
     "name": "stdout",
     "output_type": "stream",
     "text": [
      "Cantidad de Registros con cero en año:  0\n"
     ]
    }
   ],
   "source": [
    "print(\"Cantidad de Registros con cero en fuerza: \",archivo['torque'].isin([0]).sum())"
   ]
  },
  {
   "cell_type": "code",
   "execution_count": 17,
   "id": "a4b327bd-ba29-4ee5-8b33-dc4d442f0136",
   "metadata": {},
   "outputs": [
    {
     "name": "stdout",
     "output_type": "stream",
     "text": [
      "Cantidad de Registros con cero en cantidad de sillas:  0\n"
     ]
    }
   ],
   "source": [
    "print(\"Cantidad de Registros con cero en cantidad de sillas: \",archivo['seats'].isin([0]).sum())"
   ]
  },
  {
   "cell_type": "code",
   "execution_count": 30,
   "id": "8d8cfae3-4e69-4204-b6db-52af6002d576",
   "metadata": {},
   "outputs": [
    {
     "data": {
      "text/plain": [
       "Text(0.5, 1.0, 'Identificación de Datos Atípicos')"
      ]
     },
     "execution_count": 30,
     "metadata": {},
     "output_type": "execute_result"
    },
    {
     "data": {
      "image/png": "[encoded data removed]",
      "text/plain": [
       "<Figure size 600x300 with 1 Axes>"
      ]
     },
     "metadata": {},
     "output_type": "display_data"
    },
    {
     "data": {
      "image/png": "[encoded data removed]",
      "text/plain": [
       "<Figure size 600x300 with 1 Axes>"
      ]
     },
     "metadata": {},
     "output_type": "display_data"
    },
    {
     "data": {
      "image/png": "[encoded data removed]",
      "text/plain": [
       "<Figure size 600x300 with 1 Axes>"
      ]
     },
     "metadata": {},
     "output_type": "display_data"
    }
   ],
   "source": [
    "#identificacion de datos atipicos\n",
    "plt.figure(figsize=(6, 3))\n",
    "sns.boxplot(x=archivo['km_driven'])\n",
    "plt.title('Identificación de Datos Atípicos', fontsize=10 )\n",
    "plt.figure(figsize=(6, 3))\n",
    "sns.boxplot(x=archivo['seats'])\n",
    "plt.title('Identificación de Datos Atípicos', fontsize=10 )\n",
    "plt.figure(figsize=(6, 3))\n",
    "sns.boxplot(x=archivo['year'])\n",
    "plt.title('Identificación de Datos Atípicos', fontsize=10 )"
   ]
  },
  {
   "cell_type": "code",
   "execution_count": 48,
   "id": "b5163ae8-39cb-42c4-884c-c80634a36414",
   "metadata": {},
   "outputs": [
    {
     "name": "stdout",
     "output_type": "stream",
     "text": [
      "El total de datos atípicos en columna  kilometraje recorrido  es 1\n",
      "El total de datos atípicos columna sillas es 1\n",
      "El total de datos atípicos en columna año es 1\n"
     ]
    }
   ],
   "source": [
    "#conteo de datos atipicos\n",
    "nivel_minimok=0\n",
    "nivel_maximok=2000000\n",
    "Total_Atipicos=((archivo['km_driven']<nivel_minimok)|(archivo['km_driven']>nivel_maximok)).sum()\n",
    "print(\"El total de datos atípicos en columna  kilometraje recorrido  es {}\".format(Total_Atipicos))\n",
    "\n",
    "nivel_minimos=2\n",
    "nivel_maximos=10\n",
    "Total_Atipicos=((archivo['seats']<nivel_minimos)|(archivo['seats']>nivel_maximos)).sum()\n",
    "print(\"El total de datos atípicos columna sillas es {}\".format(Total_Atipicos))\n",
    "\n",
    "nivel_minimoa=1985\n",
    "nivel_maximoa=2020\n",
    "Total_Atipicos=((archivo['year']<nivel_minimoa)|(archivo['year']>nivel_maximoa)).sum()\n",
    "print(\"El total de datos atípicos en columna año es {}\".format(Total_Atipicos))\n"
   ]
  },
  {
   "cell_type": "code",
   "execution_count": 51,
   "id": "113cffaa-d04f-4fb5-9811-af17e28174d5",
   "metadata": {},
   "outputs": [],
   "source": [
    "archivo=archivo[(archivo['km_driven']<nivel_maximok)&(archivo['km_driven']>nivel_minimok)]"
   ]
  },
  {
   "cell_type": "code",
   "execution_count": null,
   "id": "0c755e37-a33c-43a2-b973-2d070196d2b1",
   "metadata": {},
   "outputs": [],
   "source": [
    "archivo=archivo[(archivo['seats']<nivel_maximos)&(archivo['seats']>nivel_minimos)]"
   ]
  },
  {
   "cell_type": "code",
   "execution_count": 56,
   "id": "015e5cb5-36cf-4d7a-83fb-ee46dd68b5a8",
   "metadata": {},
   "outputs": [],
   "source": [
    "archivo=archivo[(archivo['year']<nivel_maximoa)&(archivo['year']>nivel_minimoa)]"
   ]
  },
  {
   "cell_type": "code",
   "execution_count": 61,
   "id": "d4114991-8062-4b8f-be4f-121b0007dad3",
   "metadata": {},
   "outputs": [
    {
     "name": "stdout",
     "output_type": "stream",
     "text": [
      "El total de datos atípicos es 0\n"
     ]
    }
   ],
   "source": [
    "Total_Atipicos=((archivo['km_driven']<nivel_minimok)|(archivo['km_driven']>nivel_maximok)).sum()\n",
    "print(\"El total de datos atípicos es {}\".format(Total_Atipicos))\n",
    "\n"
   ]
  },
  {
   "cell_type": "code",
   "execution_count": 63,
   "id": "dc174144-ad95-406f-b6f5-1fd5295a83e2",
   "metadata": {},
   "outputs": [
    {
     "name": "stdout",
     "output_type": "stream",
     "text": [
      "El total de datos atípicos es 0\n"
     ]
    }
   ],
   "source": [
    "Total_Atipicos=((archivo['year']<nivel_minimoa)|(archivo['year']>nivel_maximoa)).sum()\n",
    "print(\"El total de datos atípicos es {}\".format(Total_Atipicos))\n",
    "\n"
   ]
  },
  {
   "cell_type": "code",
   "execution_count": 67,
   "id": "0f73c544-5ee2-4f0e-acb7-2015b6af9a26",
   "metadata": {},
   "outputs": [
    {
     "name": "stdout",
     "output_type": "stream",
     "text": [
      "<class 'pandas.core.frame.DataFrame'>\n",
      "Index: 8052 entries, 0 to 8127\n",
      "Data columns (total 13 columns):\n",
      " #   Column         Non-Null Count  Dtype  \n",
      "---  ------         --------------  -----  \n",
      " 0   name           8052 non-null   object \n",
      " 1   year           8052 non-null   int64  \n",
      " 2   selling_price  8052 non-null   int64  \n",
      " 3   km_driven      8052 non-null   int64  \n",
      " 4   fuel           8052 non-null   object \n",
      " 5   seller_type    8052 non-null   object \n",
      " 6   transmission   8052 non-null   object \n",
      " 7   owner          8052 non-null   object \n",
      " 8   mileage        7832 non-null   object \n",
      " 9   engine         7832 non-null   object \n",
      " 10  max_power      7838 non-null   object \n",
      " 11  torque         7831 non-null   object \n",
      " 12  seats          7832 non-null   float64\n",
      "dtypes: float64(1), int64(3), object(9)\n",
      "memory usage: 880.7+ KB\n"
     ]
    }
   ],
   "source": [
    "#revision del tipo de datos y datos faltantes\n",
    "archivo.info()"
   ]
  },
  {
   "cell_type": "code",
   "execution_count": 115,
   "id": "1c513ae9-6805-42ad-8201-cd91a1134cbe",
   "metadata": {},
   "outputs": [],
   "source": [
    "X_encoded = pd.get_dummies(X)"
   ]
  },
  {
   "cell_type": "code",
   "execution_count": 68,
   "id": "099e7bd9-2ac6-4637-b3aa-16adb604837d",
   "metadata": {},
   "outputs": [
    {
     "data": {
      "text/plain": [
       "selling_price\n",
       "300000     226\n",
       "600000     209\n",
       "350000     206\n",
       "550000     201\n",
       "450000     194\n",
       "          ... \n",
       "3900000      1\n",
       "2850000      1\n",
       "39000        1\n",
       "112999       1\n",
       "746000       1\n",
       "Name: count, Length: 666, dtype: int64"
      ]
     },
     "execution_count": 68,
     "metadata": {},
     "output_type": "execute_result"
    }
   ],
   "source": [
    "#3.Seleccionar las características más relevantes para entrenar el modelo utilizando selección de características\n",
    "archivo ['selling_price'].value_counts()"
   ]
  },
  {
   "cell_type": "code",
   "execution_count": 126,
   "id": "8f290c8f-79b1-414b-9217-7a37d80ca877",
   "metadata": {},
   "outputs": [],
   "source": [
    "#4. Dividir el dataset en Train y Test para evaluar correctamente el modelo\n",
    "\n",
    "# Porcentaje de datos para entrenamiento (train) = 75% , y para prueba (test) = 25%\n",
    "\n",
    "# Se crean variables X y Y para almacenar la información del entrenamiento\n",
    "\n",
    "X = archivo.drop('selling_price',axis=1) \n",
    "Y = archivo['selling_price'] \n",
    "\n",
    "#La función train_test_split crea una división de un conjunto de datos en dos bloques uno de entrenamiento y otro de prueba (train and test)\n",
    "X_train, X_test, Y_train, Y_test = train_test_split(X, Y, test_size=0.25, random_state= 0)\n"
   ]
  },
  {
   "cell_type": "code",
   "execution_count": 127,
   "id": "3046a8b7-f8bd-4c88-9e0f-b6c2e8e0efff",
   "metadata": {},
   "outputs": [
    {
     "name": "stdout",
     "output_type": "stream",
     "text": [
      "                                         name  year  km_driven    fuel  \\\n",
      "4313                        Hyundai i10 Magna  2012      40000  Petrol   \n",
      "5178       Mercedes-Benz New C-Class 200 K AT  2007     120000  Petrol   \n",
      "758                        Hyundai EON D Lite  2013      80000  Petrol   \n",
      "7117  Chevrolet Tavera Neo 3 LT 9 Seats BSIII  2016     100000  Diesel   \n",
      "2606                         Maruti Swift VDI  2013      77000  Diesel   \n",
      "...                                       ...   ...        ...     ...   \n",
      "4931    Tata Manza Aura (ABS) Quadrajet BS IV  2012      70000  Diesel   \n",
      "3264                     Ford Figo Diesel EXI  2012     100000  Diesel   \n",
      "1653                Hyundai i10 Sportz Option  2009      90000  Petrol   \n",
      "2607         Volkswagen Vento Diesel Highline  2012      90000  Diesel   \n",
      "2732                   Hyundai i10 Magna 1.1L  2012     110000  Petrol   \n",
      "\n",
      "     seller_type transmission         owner     mileage   engine  max_power  \\\n",
      "4313  Individual       Manual   First Owner  20.36 kmpl  1197 CC   78.9 bhp   \n",
      "5178  Individual    Automatic   First Owner   11.7 kmpl  1796 CC    178 bhp   \n",
      "758   Individual       Manual  Second Owner   21.1 kmpl   814 CC   55.2 bhp   \n",
      "7117  Individual       Manual   First Owner  13.58 kmpl  2499 CC   72.4 bhp   \n",
      "2606  Individual       Manual   First Owner   22.9 kmpl  1248 CC     74 bhp   \n",
      "...          ...          ...           ...         ...      ...        ...   \n",
      "4931  Individual       Manual   Third Owner  21.12 kmpl  1248 CC   88.8 bhp   \n",
      "3264  Individual       Manual  Second Owner   20.0 kmpl  1399 CC     68 bhp   \n",
      "1653  Individual       Manual  Second Owner  20.36 kmpl  1197 CC   78.9 bhp   \n",
      "2607  Individual       Manual   First Owner  20.54 kmpl  1598 CC  103.6 bhp   \n",
      "2732  Individual       Manual   First Owner  19.81 kmpl  1086 CC  68.05 bhp   \n",
      "\n",
      "                           torque  seats  \n",
      "4313             111.7Nm@ 4000rpm    5.0  \n",
      "5178  24.5@ 3,500-4,500(kgm@ rpm)    5.0  \n",
      "758               74.5Nm@ 4000rpm    5.0  \n",
      "7117               171Nm@ 1800rpm    9.0  \n",
      "2606               190Nm@ 2000rpm    5.0  \n",
      "...                           ...    ...  \n",
      "4931          200Nm@ 1750-3000rpm    5.0  \n",
      "3264               160Nm@ 2000rpm    5.0  \n",
      "1653             111.8Nm@ 4000rpm    5.0  \n",
      "2607          250Nm@ 1500-2500rpm    5.0  \n",
      "2732             99.04Nm@ 4500rpm    5.0  \n",
      "\n",
      "[6096 rows x 12 columns]\n"
     ]
    }
   ],
   "source": [
    "print (X_train)"
   ]
  },
  {
   "cell_type": "code",
   "execution_count": 83,
   "id": "c3e20631-d29f-4d27-8a3f-53b67bbc3479",
   "metadata": {},
   "outputs": [
    {
     "name": "stdout",
     "output_type": "stream",
     "text": [
      "2161     360000\n",
      "3242    1750000\n",
      "6263     190000\n",
      "2234    1175000\n",
      "7695     225000\n",
      "         ...   \n",
      "4974     122000\n",
      "3297     600000\n",
      "1669     650000\n",
      "2631    5150000\n",
      "2759     900000\n",
      "Name: selling_price, Length: 6039, dtype: int64\n"
     ]
    }
   ],
   "source": [
    "print (Y_train)"
   ]
  },
  {
   "cell_type": "code",
   "execution_count": null,
   "id": "dee176f0-5ffe-4226-8452-45b9135fdb99",
   "metadata": {},
   "outputs": [],
   "source": [
    "X_train.drop(\"name\", axis = 1, inplace = True)\n",
    "X_test.drop(\"name\", axis = 1, inplace = True)\n"
   ]
  },
  {
   "cell_type": "code",
   "execution_count": null,
   "id": "9029b1cf-db18-4997-a6f0-ae95d2664fd1",
   "metadata": {},
   "outputs": [],
   "source": [
    "curr_time = datetime.datetime.now()\n",
    "X_train['year'] = X_train['year'].apply(lambda x : curr_time.year - x)\n",
    "X_test['year'] = X_test['year'].apply(lambda x : curr_time.year - x)"
   ]
  },
  {
   "cell_type": "code",
   "execution_count": null,
   "id": "b59f5ef7-6524-4b27-a168-f29e0cde5eb9",
   "metadata": {},
   "outputs": [],
   "source": [
    "X_train[\"Kilometers_Driven\"]"
   ]
  },
  {
   "cell_type": "code",
   "execution_count": null,
   "id": "21ea86ff-6cad-434b-b05b-62a8d8578ba1",
   "metadata": {},
   "outputs": [],
   "source": [
    "X_train.drop(\"seller_type\", axis = 1, inplace = True)\n",
    "X_test.drop(\"seller_type\", axis = 1, inplace = True)"
   ]
  },
  {
   "cell_type": "code",
   "execution_count": null,
   "id": "15fdc600-26a8-4f75-a1aa-a55dd3db8477",
   "metadata": {},
   "outputs": [],
   "source": [
    "mileage_train = X_train[\"mileage\"].str.split(\" \", expand = True)\n",
    "mileage_test = X_test[\"mileage\"].str.split(\" \", expand = True)\n",
    "\n",
    "X_train[\"mileage\"] = pd.to_numeric(mileage_train[0], errors = 'coerce')\n",
    "X_test[\"mileage\"] = pd.to_numeric(mileage_test[0], errors = 'coerce')"
   ]
  },
  {
   "cell_type": "code",
   "execution_count": null,
   "id": "cf9df310-63a3-4a29-ba66-6178ba526209",
   "metadata": {},
   "outputs": [],
   "source": [
    "print(sum(X_train[\"mileage\"].isnull()))\n",
    "print(sum(X_test[\"mileage\"].isnull()))"
   ]
  },
  {
   "cell_type": "code",
   "execution_count": null,
   "id": "5e0afe98-7943-4f19-b800-f0872d171bc2",
   "metadata": {},
   "outputs": [],
   "source": [
    "X_train[\"mileage\"].fillna(X_train[\"mileage\"].astype(\"float64\").mean(), inplace = True)\n",
    "X_test[\"mileage\"].fillna(X_train[\"mileage\"].astype(\"float64\").mean(), inplace = True)"
   ]
  },
  {
   "cell_type": "code",
   "execution_count": 171,
   "id": "4407212a-0ab8-4d05-a252-0e30f8c38d64",
   "metadata": {},
   "outputs": [],
   "source": [
    "X_train.drop(\"owner\", axis = 1, inplace = True)\n",
    "X_test.drop(\"owner\", axis = 1, inplace = True)"
   ]
  },
  {
   "cell_type": "code",
   "execution_count": 193,
   "id": "42922b88-2a19-43b5-aea0-efccfd3e70d2",
   "metadata": {},
   "outputs": [],
   "source": [
    "cc_train = X_train[\"engine\"].str.split(\" \", expand = True)\n",
    "cc_test = X_test[\"engine\"].str.split(\" \", expand = True)\n",
    "X_train[\"engine\"] = pd.to_numeric(cc_train[0], errors = 'coerce')\n",
    "X_test[\"engine\"] = pd.to_numeric(cc_test[0], errors = 'coerce')\n",
    "\n",
    "bhp_train = X_train[\"max_power\"].str.split(\" \", expand = True)\n",
    "bhp_test = X_test[\"max_power\"].str.split(\" \", expand = True)\n",
    "X_train[\"max_power\"] = pd.to_numeric(bhp_train[0], errors = 'coerce')\n",
    "X_test[\"max_power\"] = pd.to_numeric(bhp_test[0], errors = 'coerce')\n",
    "X_train[\"engine\"].fillna(X_train[\"engine\"].astype(\"float64\").mean(), inplace = True)\n",
    "X_test[\"engine\"].fillna(X_train[\"engine\"].astype(\"float64\").mean(), inplace = True)\n",
    "\n",
    "X_train[\"max_power\"].fillna(X_train[\"max_power\"].astype(\"float64\").mean(), inplace = True)\n",
    "X_test[\"max_power\"].fillna(X_train[\"max_power\"].astype(\"float64\").mean(), inplace = True)\n",
    "\n",
    "X_train[\"seats\"].fillna(X_train[\"seats\"].astype(\"float64\").mean(), inplace = True)\n",
    "X_test[\"seats\"].fillna(X_train[\"seats\"].astype(\"float64\").mean(), inplace = True)"
   ]
  },
  {
   "cell_type": "code",
   "execution_count": 204,
   "id": "79cc0ee9-e84a-4b82-b67d-1d66ab46d576",
   "metadata": {},
   "outputs": [],
   "source": [
    "X_train.drop(\"torque\", axis = 1, inplace = True)\n",
    "X_test.drop(\"torque\", axis = 1, inplace = True)"
   ]
  },
  {
   "cell_type": "code",
   "execution_count": 218,
   "id": "6826b140-b651-4963-abac-d2f28e8c83f7",
   "metadata": {},
   "outputs": [
    {
     "data": {
      "text/html": [
       "<style>#sk-container-id-3 {color: black;background-color: white;}#sk-container-id-3 pre{padding: 0;}#sk-container-id-3 div.sk-toggleable {background-color: white;}#sk-container-id-3 label.sk-toggleable__label {cursor: pointer;display: block;width: 100%;margin-bottom: 0;padding: 0.3em;box-sizing: border-box;text-align: center;}#sk-container-id-3 label.sk-toggleable__label-arrow:before {content: \"▸\";float: left;margin-right: 0.25em;color: #696969;}#sk-container-id-3 label.sk-toggleable__label-arrow:hover:before {color: black;}#sk-container-id-3 div.sk-estimator:hover label.sk-toggleable__label-arrow:before {color: black;}#sk-container-id-3 div.sk-toggleable__content {max-height: 0;max-width: 0;overflow: hidden;text-align: left;background-color: #f0f8ff;}#sk-container-id-3 div.sk-toggleable__content pre {margin: 0.2em;color: black;border-radius: 0.25em;background-color: #f0f8ff;}#sk-container-id-3 input.sk-toggleable__control:checked~div.sk-toggleable__content {max-height: 200px;max-width: 100%;overflow: auto;}#sk-container-id-3 input.sk-toggleable__control:checked~label.sk-toggleable__label-arrow:before {content: \"▾\";}#sk-container-id-3 div.sk-estimator input.sk-toggleable__control:checked~label.sk-toggleable__label {background-color: #d4ebff;}#sk-container-id-3 div.sk-label input.sk-toggleable__control:checked~label.sk-toggleable__label {background-color: #d4ebff;}#sk-container-id-3 input.sk-hidden--visually {border: 0;clip: rect(1px 1px 1px 1px);clip: rect(1px, 1px, 1px, 1px);height: 1px;margin: -1px;overflow: hidden;padding: 0;position: absolute;width: 1px;}#sk-container-id-3 div.sk-estimator {font-family: monospace;background-color: #f0f8ff;border: 1px dotted black;border-radius: 0.25em;box-sizing: border-box;margin-bottom: 0.5em;}#sk-container-id-3 div.sk-estimator:hover {background-color: #d4ebff;}#sk-container-id-3 div.sk-parallel-item::after {content: \"\";width: 100%;border-bottom: 1px solid gray;flex-grow: 1;}#sk-container-id-3 div.sk-label:hover label.sk-toggleable__label {background-color: #d4ebff;}#sk-container-id-3 div.sk-serial::before {content: \"\";position: absolute;border-left: 1px solid gray;box-sizing: border-box;top: 0;bottom: 0;left: 50%;z-index: 0;}#sk-container-id-3 div.sk-serial {display: flex;flex-direction: column;align-items: center;background-color: white;padding-right: 0.2em;padding-left: 0.2em;position: relative;}#sk-container-id-3 div.sk-item {position: relative;z-index: 1;}#sk-container-id-3 div.sk-parallel {display: flex;align-items: stretch;justify-content: center;background-color: white;position: relative;}#sk-container-id-3 div.sk-item::before, #sk-container-id-3 div.sk-parallel-item::before {content: \"\";position: absolute;border-left: 1px solid gray;box-sizing: border-box;top: 0;bottom: 0;left: 50%;z-index: -1;}#sk-container-id-3 div.sk-parallel-item {display: flex;flex-direction: column;z-index: 1;position: relative;background-color: white;}#sk-container-id-3 div.sk-parallel-item:first-child::after {align-self: flex-end;width: 50%;}#sk-container-id-3 div.sk-parallel-item:last-child::after {align-self: flex-start;width: 50%;}#sk-container-id-3 div.sk-parallel-item:only-child::after {width: 0;}#sk-container-id-3 div.sk-dashed-wrapped {border: 1px dashed gray;margin: 0 0.4em 0.5em 0.4em;box-sizing: border-box;padding-bottom: 0.4em;background-color: white;}#sk-container-id-3 div.sk-label label {font-family: monospace;font-weight: bold;display: inline-block;line-height: 1.2em;}#sk-container-id-3 div.sk-label-container {text-align: center;}#sk-container-id-3 div.sk-container {/* jupyter's `normalize.less` sets `[hidden] { display: none; }` but bootstrap.min.css set `[hidden] { display: none !important; }` so we also need the `!important` here to be able to override the default hidden behavior on the sphinx rendered scikit-learn.org. See: https://github.com/scikit-learn/scikit-learn/issues/21755 */display: inline-block !important;position: relative;}#sk-container-id-3 div.sk-text-repr-fallback {display: none;}</style><div id=\"sk-container-id-3\" class=\"sk-top-container\"><div class=\"sk-text-repr-fallback\"><pre>LinearRegression()</pre><b>In a Jupyter environment, please rerun this cell to show the HTML representation or trust the notebook. <br />On GitHub, the HTML representation is unable to render, please try loading this page with nbviewer.org.</b></div><div class=\"sk-container\" hidden><div class=\"sk-item\"><div class=\"sk-estimator sk-toggleable\"><input class=\"sk-toggleable__control sk-hidden--visually\" id=\"sk-estimator-id-3\" type=\"checkbox\" checked><label for=\"sk-estimator-id-3\" class=\"sk-toggleable__label sk-toggleable__label-arrow\">LinearRegression</label><div class=\"sk-toggleable__content\"><pre>LinearRegression()</pre></div></div></div></div></div>"
      ],
      "text/plain": [
       "LinearRegression()"
      ]
     },
     "execution_count": 218,
     "metadata": {},
     "output_type": "execute_result"
    }
   ],
   "source": [
    "# 5Entrenar el modelo configurando los diferentes hiperparámetros\n",
    "model = LinearRegression()\n",
    "\n",
    "model.fit(X_train, y_train)"
   ]
  },
  {
   "cell_type": "code",
   "execution_count": 219,
   "id": "1e9fb93a-ec59-4845-a8b3-fb2231a93a09",
   "metadata": {},
   "outputs": [],
   "source": [
    "# prediccion\n",
    "pred = model.predict(X_test)"
   ]
  },
  {
   "cell_type": "code",
   "execution_count": 220,
   "id": "07576848-7bf6-4740-9c75-208f2dcb142d",
   "metadata": {},
   "outputs": [
    {
     "data": {
      "text/plain": [
       "array([-30717.60573234, 512874.9804956 , 806207.78330953, ...,\n",
       "       624999.99999961,  10764.87038513, 866565.25360911])"
      ]
     },
     "execution_count": 220,
     "metadata": {},
     "output_type": "execute_result"
    }
   ],
   "source": [
    "pred"
   ]
  },
  {
   "cell_type": "code",
   "execution_count": 221,
   "id": "203fd52d-a9a3-42d1-9cfd-db3b73929a42",
   "metadata": {},
   "outputs": [
    {
     "name": "stdout",
     "output_type": "stream",
     "text": [
      "Shape of y_test: (1626,)\n",
      "Shape of pred: (1626,)\n"
     ]
    }
   ],
   "source": [
    "print(\"Shape of y_test:\", y_test.shape)\n",
    "\n",
    "print(\"Shape of pred:\", pred.shape)"
   ]
  },
  {
   "cell_type": "code",
   "execution_count": 222,
   "id": "c6306fec-e5e1-4c0d-bc44-836bf638a7d4",
   "metadata": {},
   "outputs": [],
   "source": [
    "#6 Evaluar el desempeño del modelo en el conjunto de Test con métrica\n",
    "mae = mean_absolute_error(y_test,pred)\n",
    "r2 = r2_score(y_test, pred)"
   ]
  },
  {
   "cell_type": "code",
   "execution_count": 223,
   "id": "ae6602a7-5b1e-4f5c-b995-43a88a552e93",
   "metadata": {},
   "outputs": [
    {
     "name": "stdout",
     "output_type": "stream",
     "text": [
      "Mean Squared Error (MSE): 85911098104.86122\n",
      "Mean Absolute Error (MAE): 146522.73635628828\n",
      "R-squared (R2) Score: 0.8759618355952794\n"
     ]
    }
   ],
   "source": [
    "print(\"Mean Squared Error (MSE):\", mse)\n",
    "print(\"Mean Absolute Error (MAE):\", mae)\n",
    "print(\"R-squared (R2) Score:\", r2)"
   ]
  },
  {
   "cell_type": "code",
   "execution_count": 233,
   "id": "de1f8e04-79b7-428d-be17-4c52025eacda",
   "metadata": {},
   "outputs": [
    {
     "data": {
      "image/png": "[encoded data removed]",
      "text/plain": [
       "<Figure size 640x480 with 1 Axes>"
      ]
     },
     "metadata": {},
     "output_type": "display_data"
    }
   ],
   "source": [
    "#7Realizar las diferentes gráficas que permitan visualizar los resultados del modelo\n",
    "sns.regplot(x=pred, y=y_test)\n",
    "plt.xlabel(\"prediccion precio\")\n",
    "plt.ylabel('Actual Price')\n",
    "plt.title(\"Actual vs prediccion\")\n",
    "plt.show()"
   ]
  },
  {
   "cell_type": "code",
   "execution_count": null,
   "id": "0ab2b7ba-7252-411e-aa34-5ad8382acede",
   "metadata": {},
   "outputs": [],
   "source": []
  }
 ],
 "metadata": {
  "kernelspec": {
   "display_name": "Python 3 (ipykernel)",
   "language": "python",
   "name": "python3"
  },
  "language_info": {
   "codemirror_mode": {
    "name": "ipython",
    "version": 3
   },
   "file_extension": ".py",
   "mimetype": "text/x-python",
   "name": "python",
   "nbconvert_exporter": "python",
   "pygments_lexer": "ipython3",
   "version": "3.11.7"
  }
 },
 "nbformat": 4,
 "nbformat_minor": 5
}
